{
 "cells": [
  {
   "cell_type": "markdown",
   "id": "a49828f9",
   "metadata": {},
   "source": [
    "# **Homework Assignment: Classical Cryptography**\n",
    "\n",
    "Integrantes:\n",
    "- Roberth Lara.\n",
    "- Fabian de la Cruz."
   ]
  },
  {
   "cell_type": "markdown",
   "id": "87b490d1",
   "metadata": {},
   "source": [
    "## **Part I: Research Component**\n",
    "\n",
    "*Asumiendo el alfabeto inglés (A–Z, 26 letras).*"
   ]
  },
  {
   "cell_type": "markdown",
   "id": "49a060ec",
   "metadata": {},
   "source": [
    "### 1. Caesar Cipher\n",
    "- **History:** The Caesar Cipher is one of the earliest known ciphers. Julius Caesar (100–44 BCE), the Roman general and statesman, used it to protect military messages by shifting each letter three positions forward in the alphabet. It represents the first documented use of substitution in cryptography. Variants of the Caesar Cipher were still seen centuries later in basic military communication, but it was largely abandoned as literacy and cryptanalysis advanced.   \n",
    "- **Method:** Shift every letter by a fixed amount $k \\bmod 26$.  \n",
    "- **Encrypt:** $C = P + k \\pmod{26}$  \n",
    "- **Decrypt:** $P = C - k \\pmod{26}$  \n",
    "- **Key space:** 25 possible non-trivial keys.  \n",
    "- **Vulnerabilities:** Easy brute-force search. Subject to frequency analysis.  \n",
    "- **Current Usage:** Educational.\n",
    "\n",
    "---\n",
    "\n",
    "### 2. Affine Cipher\n",
    "- **History:** The Affine Cipher emerged much later as an algebraic generalization of Caesar. It reflects the rise of modular arithmetic in 18th–19th century mathematics. By using both multiplication and addition in the encryption function, it was designed to appear more secure than a simple shift. Despite this, once modular arithmetic and frequency analysis were understood, the cipher’s weakness became clear. It was used mainly in recreational or educational contexts, not in state or military communication.   \n",
    "- **Method:** Uses linear function with parameters $a$ and $b$ where $\\gcd(a,26)=1$.  \n",
    "- **Encrypt:** $C = aP + b \\pmod{26}$  \n",
    "- **Decrypt:** $P = a^{-1}(C-b) \\pmod{26}$  \n",
    "- **Key space:** 312 possible $(a,b)$ pairs.  \n",
    "- **Vulnerabilities:** Two plaintext-ciphertext pairs reveal key. Subject to frequency analysis.  \n",
    "- **Current Usage:** Educational.\n",
    "\n",
    "---\n",
    "\n",
    "### 3. Monoalphabetic Substitution\n",
    "- **History:** Monoalphabetic substitution ciphers were the dominant cryptographic tool from the Middle Ages through the Renaissance. European diplomats and monarchs relied heavily on these ciphers to protect correspondence. The technique was seriously challenged after the Arab mathematician al-Kindī described frequency analysis in the 9th century, marking the birth of modern cryptanalysis. Despite this, simple substitution remained in use for centuries because many adversaries lacked the literacy or expertise to apply cryptanalysis.  \n",
    "- **Method:** Any fixed permutation of the alphabet.  \n",
    "- **Key space:** $26!$ (about $4 \\times 10^{26}$).  \n",
    "- **Vulnerabilities:** Frequency analysis and pattern recognition.  \n",
    "- **Current Usage:** Educational, puzzles.\n",
    "\n",
    "---\n",
    "\n",
    "### 4. Polyalphabetic Substitution (Vigenère Cipher)\n",
    "- **History:** First described in 1553 by Giovan Battista Bellaso and later popularized by Blaise de Vigenère in 1586, this polyalphabetic substitution cipher gained a reputation as “le chiffre indéchiffrable” (the indecipherable cipher). It resisted frequency analysis because multiple alphabets were used, masking single-letter statistics. For over 300 years, it was believed unbreakable until Charles Babbage and Friedrich Kasiski independently developed methods in the mid-1800s to determine key length and reduce the cipher to a set of Caesar ciphers. It was still used in the 19th century for private and military correspondence.  \n",
    "- **Method:** Use a repeating keyword, each letter of the keyword indicates a Caesar shift.  \n",
    "- **Key space:** $26^L$ for a key of length $L$.  \n",
    "- **Vulnerabilities:** Kasiski examination and Friedman test can reveal key length; then frequency analysis breaks each Caesar stream.  \n",
    "- **Usage:** 16th–19th century correspondence.\n",
    "\n",
    "---\n",
    "\n",
    "<!-- ## Transposition Ciphers -->\n",
    "\n",
    "### 5. Columnar Transposition\n",
    "- **History:** Transposition ciphers gained prominence in the late 19th and early 20th centuries, with columnar transposition becoming a standard field cipher. It was widely employed during World War I and II, sometimes in multiple layers to increase security. For instance, German and British forces both relied on transposition techniques before the development of rotor machines. Though stronger than simple substitution, single transpositions still yielded to frequency and pattern analysis.  \n",
    "- **Method:** Write plaintext into a grid row-wise, permute columns according to a key, then read off column by column.  \n",
    "- **Key space:** $n!$ where $n$ is the number of columns.  \n",
    "- **Vulnerabilities:** Reconstructable via anagramming and statistical methods.  \n",
    "- **Current Usage:** Educational, puzzles.\n",
    "\n",
    "---\n",
    "\n",
    "### 6. Rail Fence Cipher\n",
    "- **History:** A transposition cipher dating back to at least the 18th–19th century. Its zig-zag writing method made it easy to perform without tables or machines, which gave it appeal for military use in the American Civil War. Despite its simplicity, it demonstrates the principle of transposition and diffusion of plaintext letters. Over time, it became more of a teaching example than a serious security measure.  \n",
    "- **Method:** Write text diagonally across $r$ rails, then read row by row.  \n",
    "- **Key space:** About $N-2$ keys for a message of length $N$.  \n",
    "- **Vulnerabilities:** Brute force small number of rails; patterns are visible.  \n",
    "- **Current Usage:** Educational, puzzles.\n",
    "\n",
    "---\n",
    "\n",
    "<!-- ## Advanced Classical Systems -->\n",
    "\n",
    "### 7. Hill Cipher\n",
    "- **History:** Introduced in 1929 by American mathematician Lester S. Hill, this was the first cipher to apply linear algebra to encryption. It was a step toward modern block ciphers, encrypting groups of letters as vectors multiplied by a key matrix. While mathematically innovative, its vulnerability to known-plaintext attacks limited its adoption. It never saw widespread military use, but it remains historically significant as a conceptual bridge between classical and modern cryptography.  \n",
    "- **Method:** Block cipher using invertible matrix multiplication modulo 26.  \n",
    "- **Encrypt:** $C = K \\times P \\pmod{26}$  \n",
    "- **Decrypt:** $P = K^{-1} \\times C \\pmod{26}$  \n",
    "- **Key space:** Number of invertible $n \\times n$ matrices mod 26. For $n=2$, 157,248 keys; for $n=3$, about $1.6 \\times 10^{12}$ keys.  \n",
    "- **Vulnerabilities:** Known-plaintext attack can solve for key matrix; chosen-plaintext attacks trivial.  \n",
    "- **Usage:** Educational.\n",
    "\n",
    "---\n",
    "\n",
    "### 8. One-Time Pad\n",
    "- **History:** Patented by Gilbert Vernam in 1919 as a telegraph cipher using a repeating key. Joseph Mauborgne, a U.S. Army officer, realized that using a key only once would yield perfect secrecy, creating the one-time pad. During World War II and the Cold War, OTPs were used in espionage and diplomatic communications. The Soviet Union famously employed OTPs, but their repeated use of key material allowed U.S. and British cryptanalysts to break into their traffic in the VENONA project (1940s–1980s). Despite its impracticality for large-scale communication, it remains the only cipher with mathematically proven perfect secrecy.  \n",
    "- **Method:** Key is truly random, as long as the message. Combine with plaintext by modular addition or XOR.  \n",
    "- **Key space:** $26^N$ for $N$ letters, $2^N$ for $N$ bits.  \n",
    "- **Security:** Provides perfect secrecy if the key is random, used once, and secret.  \n",
    "- **Vulnerabilities:** Key reuse leads to devastating attacks; generating and sharing large keys is impractical.  \n",
    "- **Usage:** Used historically in high-security communication; still used in rare niche applications.\n",
    "MARKDOWN\n",
    "echo \"✅ Archivo 'part1_research.md' generado correctamente.\"\n",
    "---\n",
    "\n",
    "### Referencias\n",
    "\n",
    "- Wikipedia contributors. (2023, August 27). Caesar cipher. In Wikipedia https://en.wikipedia.org/wiki/Caesar_cipher\n",
    "- Wikipedia contributors. (2023, June 10). Affine cipher. In Wikipedia https://en.wikipedia.org/wiki/Affine_cipher\n",
    "- Wikipedia contributors. (2023, August 28). Substitution cipher. In Wikipedia https://en.wikipedia.org/wiki/Substitution_cipher\n",
    "- Wikipedia contributors. (2023, September 1). Vigenère cipher. In Wikipedia https://en.wikipedia.org/wiki/Vigen%C3%A8re_cipher\n",
    "- Wikipedia contributors. (2023, August 22). Transposition cipher. In Wikipedia https://en.wikipedia.org/wiki/Transposition_cipher\n",
    "- Wikipedia contributors. (2023, August 13). Rail fence cipher. In Wikipedia https://en.wikipedia.org/wiki/Rail_fence_cipher\n",
    "- Wikipedia contributors. (2023, August 30). Hill cipher. In Wikipedia https://en.wikipedia.org/wiki/Hill_cipher\n",
    "- Wikipedia contributors. (2023, August 25). One-time pad. In Wikipedia https://en.wikipedia.org/wiki/One-time_pad\n",
    "\n",
    "\n",
    "---\n",
    "\n",
    "\n",
    "> **Nota.** En todas las ecuaciones, $P,C,K$ representan letras como enteros en $[0,25]$ o bits $\\{0,1\\}$; operaciones módulo 26 (letras) o XOR (bits)."
   ]
  },
  {
   "cell_type": "markdown",
   "id": "1f53bfec",
   "metadata": {},
   "source": [
    "## **Part II: Practical Exercises**"
   ]
  },
  {
   "cell_type": "markdown",
   "id": "18d3a5f1",
   "metadata": {},
   "source": [
    "### **Exercise 1: Caesar Cipher Analysis**"
   ]
  },
  {
   "cell_type": "markdown",
   "id": "570e3210",
   "metadata": {},
   "source": [
    "**Given ciphertext:**\n",
    "Al osk lzw twkl gx laewk, al osk lzw ogjkl gx laewk, al osk lzw syw gx oakvge,\n",
    "al osk lzw syw gx xggdakzfwkk, al osk lzw whguz gx twdawx, al osk lzw whguz gx\n",
    "afujwvmdalq, al osk lzw kwskgf gx Dayzl, al osk lzw kwskgf gx Vsjcfwkk, al osk\n",
    "lzw khjafy gx zghw, al osk lzw oaflwj gx vwkhsaj, ow zsv wnwjqlzafy twxgjw mk,\n",
    "ow zsv fglzafy twxgjw mk, ow owjw sdd ygafy vajwul lg Zwsnwf, ow owjw sdd ygafy\n",
    "vajwul lzw glzwj osq…\n",
    "\n",
    "\n",
    "**Tasks:**\n",
    "\n",
    "#### a) Decrypt the message using frequency analysis (show your work)\n",
    "\n",
    "Count frequencies in the ciphertext:  \n",
    "w:47, l:34, k:28, a:27, g:26, s:22, z:22, o:20, x:14, j:14, (others lower)\n",
    "\n",
    "In English, ‘E/e’ is the most common letter. The most frequent ciphertext letter is ‘w’, so assume w = e  \n",
    "Compute the shift k using $C = P + k \\bmod 26$  \n",
    "$e=4$, $w=22$, so $k = 22 − 4 = 18$\n",
    "\n",
    "Quick check with $k=18$\n",
    "\n",
    "“al” → i(8) t(19) = “it”\n",
    "\n",
    "“lzw” → t(19) h(7) e(4) = “the”\n",
    "\n",
    "“osq” → w(22) a(0) y(24) = “way”\n",
    "\n",
    "This confirms the shift\n",
    "\n",
    "**Decryption (with $k=18$):**  \n",
    "It was the best of times, it was the worst of times, it was the age of wisdom,  \n",
    "it was the age of foolishness, it was the epoch of belief, it was the epoch of  \n",
    "incredulity, it was the season of Light, it was the season of Darkness, it was  \n",
    "the spring of hope, it was the winter of despair, we had everything before us,  \n",
    "we had nothing before us, we were all going direct to Heaven, we were all going  \n",
    "direct the other way...\n",
    "\n",
    "#### b) What is the key used?\n",
    "\n",
    "Encryption key $k = 18$\n",
    "\n",
    "---\n"
   ]
  },
  {
   "cell_type": "markdown",
   "id": "6ce9c229",
   "metadata": {},
   "source": [
    "### **Exercise 2: Affine Cipher Implementation**"
   ]
  },
  {
   "cell_type": "markdown",
   "id": "af081679",
   "metadata": {},
   "source": [
    "The Affine cipher uses the formula: $E(x) = (ax + b) \\bmod 26$\n",
    "\n",
    "**Given:** Plaintext = \"CRYPTOGRAPHY\", $a = 5$, $b = 8$\n",
    "\n",
    "**Tasks:**\n",
    "\n",
    "#### a) Encrypt the plaintext (show calculations for first 3 letters)\n",
    "\n",
    "With $A = 0$ and $Z = 25$  \n",
    "C → $x=2$ → $E(x) = (5·2 + 8) \\bmod 26 = (10 + 8) \\bmod 26 = 18$ → S  \n",
    "R → $x=17$ → $E(x) = (5·17 + 8) \\bmod 26 = (85 + 8) \\bmod 26 = 93 \\bmod 26 = 15$ → P  \n",
    "Y → $x=24$ → $E(x) = (5·24 + 8) \\bmod 26 = (120 + 8) \\bmod 26 = 128 \\bmod 26 = 24$ → Y\n",
    "\n",
    "**Full encryption:**  \n",
    "CRYPTOGRAPHY → SPYFZAMPIFRY\n",
    "\n",
    "#### b) Find the decryption key values (multiplicative inverse of a)\n",
    "\n",
    "Find $a^{-1}$ such that $5·a^{-1} \\pmod{26} = 1$\n",
    "\n",
    "$26×4 = 104$, $104 + 1 = 105$, $105 = 5×21$\n",
    "\n",
    "$5·21 = 105$, $105 \\pmod{26} = 1$, so $a^{-1} = 21$\n",
    "\n",
    "#### c) Verify your encryption by decrypting the first 3 letters\n",
    "\n",
    "S → $y=18$ → $D(y) = 21·(18 − 8) \\bmod 26 = 21·10 \\bmod 26 = 210 \\bmod 26 = 2$ → C  \n",
    "P → $y=15$ → $D(y) = 21·(15 − 8) \\bmod 26 = 21·7 \\bmod 26 = 147 \\bmod 26 = 17$ → R  \n",
    "Y → $y=24$ → $D(y) = 21·(24 − 8) \\bmod 26 = 21·16 \\bmod 26 = 336 \\bmod 26 = 24$ → Y\n",
    "\n",
    "CRY...\n",
    "\n",
    "#### d) How many valid keys exist for the Affine cipher? Explain your reasoning.\n",
    "\n",
    "Valid keys require $\\gcd(a, 26) = 1$ and any $b \\in \\{0,…,25\\}$.  \n",
    "There are 12 choices for $a$ (1,3,5,7,9,11,15,17,19,21,23,25. Numbers not divisible by 2 or 13, coprimes with 26) and 26 choices for $b$.  \n",
    "Total valid keys = $12 · 26 = 312$\n",
    "\n",
    "---"
   ]
  },
  {
   "cell_type": "markdown",
   "id": "c29d9bfd",
   "metadata": {},
   "source": [
    "### **Exercise 3: Perfect Secrecy Analysis**"
   ]
  },
  {
   "cell_type": "markdown",
   "id": "62b57544",
   "metadata": {},
   "source": [
    "Consider a simple cipher that operates on single bits where:\n",
    "\n",
    "Key space: $\\{0, 1\\}$  \n",
    "Plaintext space: $\\{0, 1\\}$  \n",
    "Encryption: $C = P \\oplus K$ (XOR operation)  \n",
    "Each key is chosen with probability $1/2$\n",
    "\n",
    "**Tasks:**\n",
    "\n",
    "#### a) Create the complete encryption matrix showing all possible (plaintext, key, ciphertext) combinations\n",
    "\n",
    "| P | K | C |\n",
    "|---|---|---|\n",
    "| 0 | 0 | 0 |\n",
    "| 0 | 1 | 1 |\n",
    "| 1 | 0 | 1 |\n",
    "| 1 | 1 | 0 |\n",
    "\n",
    "#### b) Calculate $P(C=0)$ and $P(C=1)$\n",
    "\n",
    "$p = P(P=0)$. $P(P=1) = 1 − p$  \n",
    "$P(K=0) = P(K=1) = 1/2$\n",
    "\n",
    "$P(C=0) = P(P=0,K=0) + P(P=1,K=1)$  \n",
    "$= P(P=0)·1/2 + P(P=1)·1/2$  \n",
    "$= (p/2) + ((1−p)/2)$  \n",
    "$= 1/2$\n",
    "\n",
    "Similarly, $P(C=1) = 1/2$\n",
    "\n",
    "#### c) Calculate $P(P=0|C=0)$ and $P(P=1|C=0)$\n",
    "\n",
    "$P(C=0 \\mid P=0) = P(K=0) = 1/2$  \n",
    "$P(C=0) = 1/2$\n",
    "\n",
    "$P(P=0 \\mid C=0) = \\dfrac{P(C=0 \\mid P=0) · P(P=0)}{P(C=0)}$  \n",
    "$= \\dfrac{1/2 · p}{1/2}$  \n",
    "$= p$  \n",
    "$= P(P=0)$\n",
    "\n",
    "Likewise, $P(P=1 \\mid C=0) = P(P=1)$\n",
    "\n",
    "#### d) Does this cipher achieve perfect secrecy? Prove your answer using Shannon's definition\n",
    "\n",
    "Shannon’s definition: for all plaintext values $p$ and all ciphertext values $c$,  \n",
    "$P(P=p \\mid C=c) = P(P=p)$\n",
    "\n",
    "From (c), we just showed exactly that:\n",
    "\n",
    "$P(P=0 \\mid C=c) = P(P=0)$\n",
    "\n",
    "$P(P=1 \\mid C=c) = P(P=1)$\n",
    "\n",
    "This holds for any prior over $P$, because $P(C=c \\mid P=p) = 1/2$ (the key flips or keeps the bit with equal chance) and $P(C=c) = 1/2$. Therefore, observing $C$ does not change the distribution of $P$. So this achieves perfect secrecy\n",
    "\n",
    "#### e) What happens to perfect secrecy if we reuse the key for multiple bits?\n",
    "\n",
    "Key reuse destroys perfect secrecy beyond a single bit\n",
    "\n",
    "---"
   ]
  },
  {
   "cell_type": "markdown",
   "id": "778b121d",
   "metadata": {},
   "source": [
    "### **Exercise 4: Entropy and Key Analysis**"
   ]
  },
  {
   "cell_type": "markdown",
   "id": "6edfa9da",
   "metadata": {},
   "source": [
    "Consider the following scenarios:\n",
    "\n",
    "**Scenario A:** A password system where:\n",
    "\n",
    "Passwords are exactly 4 characters long  \n",
    "Each character is chosen uniformly from {A, B, C, D}\n",
    "\n",
    "**Scenario B:** A Vigenère cipher with:\n",
    "\n",
    "Key length = 3  \n",
    "Each key character chosen uniformly from 26-letter alphabet\n",
    "\n",
    "**Tasks:**\n",
    "\n",
    "#### a) Calculate the entropy (in bits) for Scenario A\n",
    "\n",
    "Number of passwords = $4^4 = 256$  \n",
    "Entropy $\\log_2(256) = 8$ bits\n",
    "\n",
    "#### b) Calculate the entropy (in bits) for Scenario B\n",
    "\n",
    "Number of keys = $26^3 = 17,576$  \n",
    "Entropy $H = \\log_2(26^3) = 3·\\log_2(26) \\approx 3·4.70044 \\approx 14.10$ bits. Let's say 15 bits\n",
    "\n",
    "#### c) If an attacker can test 1000 keys per second, how long would it take to break each system in the worst case?\n",
    "\n",
    "Scenario A: need up to 256 tries → $256 / 1000$ s = 0.256 seconds  \n",
    "Scenario B: need up to 17 576 tries → $17\\,576 / 1000$ s = 17.576 seconds\n",
    "\n",
    "#### d) Calculate the \"unicity distance\" concept: If English text has entropy ≈ 1.5 bits per character, how much ciphertext would theoretically be needed to uniquely determine a 3-character Vigenère key?\n",
    "\n",
    "Key entropy for a 3-char Vigenère key = $\\log_2(26^3) = 3·\\log_2(26) \\approx 14.10$ bits\n",
    "\n",
    "English redundancy per character = $\\log_2(26) − 1.5 \\approx 4.70044 − 1.5 \\approx 3.20044$ bits/char\n",
    "\n",
    "Unicity distance $U \\approx \\dfrac{H(\\text{key})}{\\text{redundancy}} \\approx \\dfrac{14.10}{3.20044} \\approx 4.41$ characters"
   ]
  },
  {
   "cell_type": "markdown",
   "id": "b072fb09",
   "metadata": {},
   "source": [
    "## **Part III: Pico CTF**"
   ]
  },
  {
   "cell_type": "markdown",
   "id": "fb47990d",
   "metadata": {},
   "source": [
    "Five problems have been posted in the Pico CTF platform. For each problem, find the flags using two different methods. For each method:\n",
    "\n",
    "- Provide an explanation on what technique was used to solve it.\n",
    "- Provide any code you used. If you need to apply brute-force, please write your own Python code to do so. Do not use online platforms.\n",
    "- Provide screenshots showing that the platform accepted your flag."
   ]
  },
  {
   "cell_type": "markdown",
   "id": "54f1ecad",
   "metadata": {},
   "source": [
    "### **Primer ejercicio: C3**"
   ]
  },
  {
   "cell_type": "markdown",
   "id": "6456a127",
   "metadata": {},
   "source": [
    "\n",
    "Estos son los dos archivos que me da el ejercicio:\n",
    "\n",
    "**Ciphertext:**\n",
    "\n",
    "```bash\n",
    "DLSeGAGDgBNJDQJDCFSFnRBIDjgHoDFCFtHDgJpiHtGDmMAQFnRBJKkBAsTMrsPSDDnEFCFtIbEDtDCIbFCFtHTJDKerFldbFObFCFtLBFkBAAAPFnRBJGEkerFlcPgKkImHnIlATJDKbTbFOkdNnsgbnJRMFnRBNAFkBAAAbrcbTKAkOgFpOgFpOpkBAAAAAAAiClFGIPFnRBaKliCgClFGtIBAAAAAAAOgGEkImHnIl\n",
    "```\n",
    "\n",
    "**Convert.py**\n",
    "```python\n",
    "import sys\n",
    "chars = \"\"\n",
    "from fileinput import input\n",
    "for line in input():\n",
    "  chars += line\n",
    "\n",
    "lookup1 = \"\\n \\\"#()*+/1:=[]abcdefghijklmnopqrstuvwxyz\"\n",
    "lookup2 = \"ABCDEFGHIJKLMNOPQRSTabcdefghijklmnopqrst\"\n",
    "\n",
    "out = \"\"\n",
    "\n",
    "prev = 0\n",
    "for char in chars:\n",
    "  cur = lookup1.index(char)\n",
    "  out += lookup2[(cur - prev) % 40]\n",
    "  prev = cur\n",
    "\n",
    "sys.stdout.write(out)\n",
    "```"
   ]
  },
  {
   "cell_type": "markdown",
   "id": "54675de6",
   "metadata": {},
   "source": [
    "#### **Método 1: Inversión algebraica del codificador (decoder por suma acumulada mod 40).**"
   ]
  },
  {
   "cell_type": "markdown",
   "id": "1d54dd62",
   "metadata": {},
   "source": [
    "Con lo que dieron (ciphertext y convert.py) el truco es que convert.py es el codificador (de lookup1 → lookup2). El ciphertext ya está en lookup2, así que para recuperar el texto claro necesitamos el proceso inverso (decodificador).\n",
    "\n",
    "```bash\n",
    "for char in chars:                      # cada caracter del plaintext\n",
    "    cur = lookup1.index(char)           # posición del caracter en lookup1\n",
    "    out += lookup2[(cur - prev) % 40]   # se calcula un “diferencial” y se guarda en lookup2\n",
    "    prev = cur                          # actualiza la referencia\n",
    "```\n",
    "\n",
    "**Fórmula Clave:**\n",
    "```bash\n",
    "encoded_index = (cur - prev) % 40\n",
    "```\n",
    "\n",
    "Donde:\n",
    "- cur = índice del caracter original en lookup1.\n",
    "- prev = índice del caracter anterior en lookup1.\n",
    "- encoded_index = índice en lookup2 (lo que ves en el ciphertext).\n",
    "\n",
    "**Invertir la fórmula (para decodificar)**\n",
    "\n",
    "Lo que necesitas es recuperar cur a partir de encoded_index y prev.\n",
    "\n",
    "De la fórmula:\n",
    "```bash\n",
    "encoded_index = (cur - prev) % 40\n",
    "```\n",
    "\n",
    "Se despeja:\n",
    "```bash\n",
    "cur = (prev + encoded_index) % 40\n",
    "```\n",
    "\n",
    "**Implementar el decoder**\n",
    "- El ciphertext contiene letras de lookup2.\n",
    "- Entonces, en vez de lookup1.index(char), ahora hacemos lookup2.index(char) → encoded_index.\n",
    "- Luego aplicamos la fórmula inversa: cur = (prev + encoded_index) % 40.\n",
    "- Con cur recuperamos el caracter original de lookup1.\n",
    "- Y actualizamos prev = cur.\n",
    "\n",
    "\n",
    "Por eso el decoder luce así:\n",
    "```bash\n",
    "out = \"\"\n",
    "prev = 0\n",
    "for char in ciphertext:\n",
    "    diff = lookup2.index(char)       # encoded_index\n",
    "    cur = (prev + diff) % 40         # fórmula inversa\n",
    "    out += lookup1[cur]              # caracter original\n",
    "    prev = cur\n",
    "```"
   ]
  },
  {
   "cell_type": "code",
   "execution_count": 5,
   "id": "c4efe8bb",
   "metadata": {},
   "outputs": [
    {
     "name": "stdout",
     "output_type": "stream",
     "text": [
      "#asciiorder\n",
      "#fortychars\n",
      "#selfinput\n",
      "#pythontwo\n",
      "\n",
      "chars = \"\"\n",
      "from fileinput import input\n",
      "for line in input():\n",
      "    chars += line\n",
      "b = 1 / 1\n",
      "\n",
      "for i in range(len(chars)):\n",
      "    if i == b * b * b:\n",
      "        print chars[i] #prints\n",
      "        b += 1 / 1\n",
      "\n"
     ]
    }
   ],
   "source": [
    "lookup1 = \"\\n \\\"#()*+/1:=[]abcdefghijklmnopqrstuvwxyz\"\n",
    "lookup2 = \"ABCDEFGHIJKLMNOPQRSTabcdefghijklmnopqrst\"\n",
    "\n",
    "encoded = \"DLSeGAGDgBNJDQJDCFSFnRBIDjgHoDFCFtHDgJpiHtGDmMAQFnRBJKkBAsTMrsPSDDnEFCFtIbEDtDCIbFCFtHTJDKerFldbFObFCFtLBFkBAAAPFnRBJGEkerFlcPgKkImHnIlATJDKbTbFOkdNnsgbnJRMFnRBNAFkBAAAbrcbTKAkOgFpOgFpOpkBAAAAAAAiClFGIPFnRBaKliCgClFGtIBAAAAAAAOgGEkImHnIl\"\n",
    "\n",
    "out = \"\"\n",
    "prev = 0\n",
    "for char in encoded:\n",
    "    diff = lookup2.index(char)\n",
    "    cur = (prev + diff) % 40\n",
    "    out += lookup1[cur]\n",
    "    prev = cur\n",
    "\n",
    "print(out)"
   ]
  },
  {
   "cell_type": "markdown",
   "id": "a3673bd6",
   "metadata": {},
   "source": [
    "**Según las pistas de este output:**\n",
    "\n",
    "- `#pythontwo` → correr en Python 2.  \n",
    "- `#selfinput` → el script se debe ejecutar con su propio contenido como entrada.  "
   ]
  },
  {
   "cell_type": "code",
   "execution_count": 19,
   "id": "61b9705a",
   "metadata": {},
   "outputs": [],
   "source": [
    "code = '''#asciiorder\n",
    "#fortychars\n",
    "#selfinput\n",
    "#pythontwo\n",
    "\n",
    "chars = \"\"\n",
    "from fileinput import input\n",
    "for line in input():\n",
    "    chars += line\n",
    "b = 1 // 1\n",
    "\n",
    "for i in range(len(chars)):\n",
    "    if i == b * b * b:\n",
    "        print(chars[i])  # prints\n",
    "        b += 1 // 1\n",
    "'''\n",
    "\n",
    "with open(\"stage2.py\", \"w\", encoding=\"utf-8\", newline=\"\\n\") as f:\n",
    "    f.write(code)"
   ]
  },
  {
   "cell_type": "code",
   "execution_count": 18,
   "id": "5cda3aa3",
   "metadata": {},
   "outputs": [
    {
     "name": "stdout",
     "output_type": "stream",
     "text": [
      "a\n",
      "d\n",
      "l\n",
      "i\n",
      "b\n",
      "r\n"
     ]
    }
   ],
   "source": [
    "!python3 stage2.py < stage2.py"
   ]
  },
  {
   "cell_type": "markdown",
   "id": "ce214694",
   "metadata": {},
   "source": [
    "Perfecto, resuelto, tenemos como resultado:\n",
    "```\n",
    "adlibs\n",
    "```"
   ]
  },
  {
   "cell_type": "markdown",
   "id": "8ae135dc",
   "metadata": {},
   "source": [
    "#### **Método 2: Suma acumulada**"
   ]
  },
  {
   "cell_type": "markdown",
   "id": "1794fea6",
   "metadata": {},
   "source": [
    "1. Observé que el archivo `convert.py` hacía siempre la operación:\n",
    "   ```bash\n",
    "   out += lookup2[(cur - prev) % 40]\n",
    "   ```\n",
    "   Es decir, tomaba la diferencia entre posiciones en el alfabeto.\n",
    "\n",
    "2. Entonces pensé:\n",
    "   - Si al cifrar se usa `cur - prev`,\n",
    "   - al descifrar debería usarse la operación contraria: `prev + encoded`.\n",
    "\n",
    "3. De esta forma, se puede resolver así:\n",
    "   - Empiezo con `prev = 0`.\n",
    "   - Recorro cada letra cifrada.\n",
    "   - La convierto en número con `.index()`.\n",
    "   - Le sumo el valor anterior (`prev`).\n",
    "   - Tomo la letra de `lookup1`.\n",
    "   - Actualizo `prev`."
   ]
  },
  {
   "cell_type": "code",
   "execution_count": 22,
   "id": "9c3adef5",
   "metadata": {},
   "outputs": [
    {
     "name": "stdout",
     "output_type": "stream",
     "text": [
      "#asciiorder\n",
      "#fortychars\n",
      "#selfinput\n",
      "#pythontwo\n",
      "\n",
      "chars = \"\"\n",
      "from fileinput import input\n",
      "for line in input():\n",
      "    chars += line\n",
      "b = 1 / 1\n",
      "\n",
      "for i in range(len(chars)):\n",
      "    if i == b * b * b:\n",
      "        print chars[i] #prints\n",
      "        b += 1 / 1\n",
      "\n"
     ]
    }
   ],
   "source": [
    "lookup1 = \"\\n \\\"#()*+/1:=[]abcdefghijklmnopqrstuvwxyz\"\n",
    "lookup2 = \"ABCDEFGHIJKLMNOPQRSTabcdefghijklmnopqrst\"\n",
    "\n",
    "cipher = \"DLSeGAGDgBNJDQJDCFSFnRBIDjgHoDFCFtHDgJpiHtGDmMAQFnRBJKkBAsTMrsPSDDnEFCFtIbEDtDCIbFCFtHTJDKerFldbFObFCFtLBFkBAAAPFnRBJGEkerFlcPgKkImHnIlATJDKbTbFOkdNnsgbnJRMFnRBNAFkBAAAbrcbTKAkOgFpOgFpOpkBAAAAAAAiClFGIPFnRBaKliCgClFGtIBAAAAAAAOgGEkImHnIl\"\n",
    "\n",
    "out = []\n",
    "suma = 0               \n",
    "for ch in cipher:\n",
    "    idx = lookup2.index(ch)    # número de la letra cifrada\n",
    "    suma = (suma + idx) % 40   # sumita acumulada (mod 40)\n",
    "    out.append(lookup1[suma])  # letra descifrada\n",
    "\n",
    "plaintext = \"\".join(out)\n",
    "print(plaintext)"
   ]
  },
  {
   "cell_type": "markdown",
   "id": "ca970c2a",
   "metadata": {},
   "source": [
    "Como la salida es la misma que en el método anterior, se confirma que el procedimiento es correcto. Por lo tanto, al ejecutar este código con self-input se obtiene la flag final del reto -> ``` adlibs ```."
   ]
  },
  {
   "cell_type": "markdown",
   "id": "d6551105",
   "metadata": {},
   "source": [
    "### **Segundo ejercicio: Easy Peasy**"
   ]
  },
  {
   "cell_type": "markdown",
   "id": "638613ff",
   "metadata": {},
   "source": [
    "#### Introducción (qué me dieron)\n",
    "El reto entrega un servicio que implementa un esquema tipo OTP (One‑Time Pad). Al iniciar, el servidor:\n",
    "\n",
    "1. Muestra el *ciphertext* de la flag (en hex).  \n",
    "2. Luego pregunta: *“What data would you like to encrypt?”* y cifra lo que envíes con el mismo key‑stream (avanzando un puntero).  \n",
    "3. Si el puntero llega al final del key (longitud 50 000), hace **wrap** y vuelve al inicio del key.\n",
    "\n",
    "El archivo del servidor (`otp.py`) fue incluido en el reto y lo leí con atención para entender la mecánica del puntero/key y el wrap. \n",
    "\n",
    "\n",
    "#### Observación clave (la vulnerabilidad)\n",
    "En un OTP seguro cada porción del key debe usarse una sola vez. En este servicio, por diseño (o por bug), el servidor puede volver a reutilizar la misma porción del key si el puntero hace wrap. Concretamente:\n",
    "\n",
    "- El servidor cifra la flag con `key[k : k + len(flag)]` y avanza el puntero a `k + len(flag)`.  \n",
    "- Si yo envío `FILL = KEY_LEN - len(flag)` bytes, el puntero llegará a `k + KEY_LEN` y al hacer wrap el siguiente cifrado volverá a usar `key[k : k + len(flag)]`.  \n",
    "- Eso crea un **two‑time pad**: la misma porción del key `K` cifra la flag y mi mensaje posterior.\n",
    "\n",
    "Esto es suficiente para recuperar la flag.\n"
   ]
  },
  {
   "cell_type": "markdown",
   "id": "edb39d02",
   "metadata": {},
   "source": [
    "Al ver el `convert`/`encrypt` en el código, lo primero que hice fue identificar:\n",
    "\n",
    "- `C1 = FLAG ^ K`  (cipher que nos muestra el servidor al inicio)  \n",
    "- Si consigo que el servidor cifre otra vez con **la misma** porción `K` y yo controlo ese plaintext `P2`, obtendré `C2 = P2 ^ K`.\n",
    "\n",
    "Dado `C1` y `C2` conocidos y `P2` elegido por mí, puedo recombinar:\n",
    "\n",
    "```\n",
    "C1 ^ C2 = (FLAG ^ K) ^ (P2 ^ K) = FLAG ^ P2\n",
    "```\n",
    "\n",
    "y por tanto\n",
    "\n",
    "```\n",
    "FLAG = C1 ^ C2 ^ P2\n",
    "```\n",
    "\n",
    "Eso es todo: con un XOR extra y mi `P2` conocido, recupero la `FLAG`."
   ]
  },
  {
   "cell_type": "markdown",
   "id": "b9d1415c",
   "metadata": {},
   "source": [
    "#### Datos concretos del reto\n",
    "- `KEY_LEN = 50000` (del código).  \n",
    "- El ciphertext de la flag mostrado inicialmente tenía 64 hex → **32 bytes** de flag.  \n",
    "- Por tanto: `FILL = 50000 - 32 = 49968`."
   ]
  },
  {
   "cell_type": "markdown",
   "id": "99bfc989",
   "metadata": {},
   "source": [
    "#### **Método 1: Two‑time pad con texto conocido “A”**"
   ]
  },
  {
   "cell_type": "markdown",
   "id": "fde004cc",
   "metadata": {},
   "source": [
    "##### Idea (resumida)\n",
    "Forzamos el wrap y pedimos que cifre `P2 = b\"A\"*32`. Con `C1` y `C2` calculamos `FLAG = C1 ^ C2 ^ P2`.\n",
    "\n",
    "##### Pasos que ejecuté\n",
    "1. Conectar al servicio y copiar `C1` (el hex que imprime al arrancar).\n",
    "   ```bash\n",
    "   nc mercury.picoctf.net 58913\n",
    "   ```\n",
    "   El servidor imprime algo como:\n",
    "   ```\n",
    "   Here ya go!\n",
    "   1a2b3c...  (64 hex chars)\n",
    "   ```\n",
    "   Ese hex es `C1`.\n",
    "\n",
    "2. En la primera interacción con el prompt, enviar `FILL = 49968` letras `'A'` para forzar el wrap.\n",
    "\n",
    "3. Ahora el servidor pedirá otra vez *What data would you like to encrypt?* — enviar `32` `'A'`:\n",
    "\n",
    "Ejecutamos este paso para hacer 2 y 3:\n",
    "```bash\n",
    "python3 -c 'import sys; sys.stdout.write(\"A\"*49968 + \"\\n\" + \"A\"*32 + \"\\n\")' | nc mercury.picoctf.net 58913\n",
    "```\n",
    "   Copiar el hex que devuelve → ese es `C2`.\n",
    "\n",
    "4. Localmente combinar `C1`, `C2` y `P2`:"
   ]
  },
  {
   "cell_type": "code",
   "execution_count": 24,
   "id": "5bc24577",
   "metadata": {},
   "outputs": [
    {
     "name": "stdout",
     "output_type": "stream",
     "text": [
      "35ecb423b3b43472c35cc2f41011c6d2\n"
     ]
    }
   ],
   "source": [
    "C1_hex = \"51124f4d194969633e4b52026f4c07513a6f4d05516e1e50536c4954066a1c57\"\n",
    "C2_hex = \"23666b6f3a3c1a111d3971771d397122181d3927731d3925231d3924241d3924\"\n",
    "\n",
    "C1 = bytes.fromhex(C1_hex)\n",
    "C2 = bytes.fromhex(C2_hex)\n",
    "P2 = b\"A\" * len(C2)\n",
    "\n",
    "flag = bytes(a ^ b ^ c for a,b,c in zip(C1, C2, P2))\n",
    "print(flag.decode())"
   ]
  },
  {
   "cell_type": "markdown",
   "id": "862671b2",
   "metadata": {},
   "source": [
    "Resultado: `picoCTF{35ecb423b3b43472c35cc2f41011c6d2}`"
   ]
  },
  {
   "cell_type": "markdown",
   "id": "f4101218",
   "metadata": {},
   "source": [
    "#### **Método 2**"
   ]
  },
  {
   "cell_type": "markdown",
   "id": "a0f0cfd3",
   "metadata": {},
   "source": [
    "**Falta**"
   ]
  },
  {
   "cell_type": "markdown",
   "id": "de119147",
   "metadata": {},
   "source": [
    "### **Tercer ejercicio: New Caesar**"
   ]
  },
  {
   "cell_type": "markdown",
   "id": "efcd384d",
   "metadata": {},
   "source": [
    "##### Resumen del cifrado observado\n",
    "\n",
    "Del archivo `new_caesar.py` y del enunciado se deduce que:\n",
    "\n",
    "1. Cada **byte** del *plaintext* se transforma a **dos nibbles** (base-16).\n",
    "   - Ejemplo: el byte `0x41` (`'A'`) se convierte en `0x4` y `0x1`.\n",
    "2. En vez del alfabeto hexadecimal estándar `0..f`, el reto **mapea** los 16 valores a letras:\n",
    "\n",
    "```\n",
    "ALPHABET = \"abcdefghijklmnop\"\n",
    "```\n",
    "\n",
    "Es decir, `a → 0x0`, `b → 0x1`, …, `p → 0xF`.\n",
    "\n",
    "\n",
    "3. Sobre esa secuencia de letras (cada nibble representado por `a..p`) aplican un **desplazamiento tipo Caesar** de **longitud 1** (una sola letra de clave), es decir, cada carácter `c` se reemplaza por:\n",
    "\n",
    "$$\n",
    "c' = \\text{ALPHABET}\\big( (\\text{idx}(c) + \\text{idx}(k)) \\bmod 16\\big)\n",
    "$$\n",
    "\n",
    "donde `idx(x)` es el índice de la letra en `ALPHABET`, y `k` es la clave (una letra `a..p`).\n",
    "\n",
    "4. Por tanto, el ciphertext que aparece en el reto es una secuencia sólo con letras `a..p`.\\\n",
    "   Para recuperar el *plaintext* hay que (i) revertir el shift y (ii) reensamblar nibbles en bytes.\n"
   ]
  },
  {
   "cell_type": "markdown",
   "id": "48a033dd",
   "metadata": {},
   "source": [
    "##### Notación y fórmulas\n",
    "\n",
    "- Sea el alfabeto  \n",
    "  $ AL = \\{a,b,c,\\dots,p\\} $\n",
    "  con índices:\n",
    "\n",
    "  $$\n",
    "  \\text{idx}(a)=0,\\ \\text{idx}(b)=1,\\ \\dots,\\ \\text{idx}(p)=15.\n",
    "  $$\n",
    "\n",
    "- Si \\(c'\\) es un carácter cifrado y \\(k\\) es la clave (una sola letra), la operación de **cifrado** en índices es:\n",
    "\n",
    "  $$\n",
    "  \\text{idx}(c') \\equiv \\text{idx}(c) + \\text{idx}(k) \\pmod{16}.\n",
    "  $$\n",
    "\n",
    "- Para **deshacer** el cifrado (**descifrar**):\n",
    "\n",
    "  $$\n",
    "  \\text{idx}(c) \\equiv \\text{idx}(c') - \\text{idx}(k) \\pmod{16}.\n",
    "  $$\n",
    "\n",
    "- Una vez que se obtiene la secuencia de *nibbles* (letras en `a..p`) **sin desplazamiento**, se toman **de 2 en 2** para formar bytes.  \n",
    "  Si los nibbles son \\( n_{\\text{hi}}, n_{\\text{lo}} \\in \\{0,\\dots,15\\} \\), el byte reconstruido es:\n",
    "\n",
    "  $$\n",
    "  \\text{byte} \\;=\\; (n_{\\text{hi}} \\ll 4)\\ \\big|\\ n_{\\text{lo}}.\n",
    "  $$\n",
    "\n",
    "> Nota: “\\( ll \\)” indica corrimiento a la izquierda 4 bits, y “\\( | \\)” el OR a nivel de bits."
   ]
  },
  {
   "cell_type": "markdown",
   "id": "3b704ef3",
   "metadata": {},
   "source": [
    "#### **Método A — Reversión analítica (determinista)**"
   ]
  },
  {
   "cell_type": "markdown",
   "id": "d28a752e",
   "metadata": {},
   "source": [
    "##### Idea\n",
    "\n",
    "Dado que la clave es una sola letra y el alfabeto tiene tamaño 16, basta probar las 16 claves posibles. Para cada clave:\n",
    "\n",
    "1. Revertir el desplazamiento (fórmula arriba).\n",
    "2. Tomar pares de letras y convertirlos en bytes por concatenación de nibbles.\n",
    "3. Convertir bytes a ASCII y comprobar si la salida contiene `picoCTF{`.\n",
    "\n",
    "##### Complejidad\n",
    "\n",
    "- Intentos: 16 claves.\n",
    "- Trabajo por intento: O(N) para procesar N caracteres del ciphertext.\n",
    "- Total: O(16·N) ≈ O(N) — trivialmente rápido."
   ]
  },
  {
   "cell_type": "code",
   "execution_count": null,
   "id": "6129ce88",
   "metadata": {},
   "outputs": [
    {
     "name": "stdout",
     "output_type": "stream",
     "text": [
      "a ËÚµÚÛµÇÊÇËÇÌÌÊËÈÇÉ\n",
      "b ºÉ¤ÉÊ¤¶¹¶º¶»»¹º·¶¸\n",
      "c ©¸¸¹s¥v¨¥u©u|¥ªx}ªzx}|tz}||{|z¨©¦v¥z§\n",
      "d §§¨beddkgliglkcilkkjkiei\n",
      "e qQqTSSZV[XV[ZRX[ZZYZXTX\n",
      "f v`@`rCurBvBIrwEJwGEJIAGJIIHIGuvsCrGt\n",
      "g et_tu?_a2da1e18af49f649806988786deb2a6c\n",
      "h TcNcd.NP!SP T 'PU#(U%#('/%(''&'%STQ!P%R\n",
      "i CR=RS\u001d=O\u0010BO\u001fC\u001f\u0016OD\u0012\u0017D\u0014\u0012\u0017\u0016\u001e\u0014\u0017\u0016\u0016\u0015\u0016\u0014BC@\u0010O\u0014A\n",
      "\u0003\u0006\u0005\u0005\u0004\u0005\u000312?\u000f>\u000302\u000e\u0005>3\u0001\u00063\u0003\u0001\u0006\u0005\n",
      "k !0\u001b01û\u001b-þ -ý!ýô-\"ðõ\"òðõôüòõôôóôò !.þ-ò/\n",
      "l \u0010/\n",
      "/ ê\n",
      "\u001cí\u001f\u001cì\u0010ìã\u001c\u0011ïä\u0011áïäãëáäããâãá\u001f\u0010\u001dí\u001cá\u001e\n",
      "m \u000f\u001eù\u001e\u001fÙù\u000bÜ\u000e\u000bÛ\u000fÛÒ\u000b\u0000ÞÓ\u0000ÐÞÓÒÚÐÓÒÒÑÒÐ\u000e\u000f\fÜ\u000bÐ\n",
      "\u000eÈèúËýúÊþÊÁúÿÍÂÿÏÍÂÁÉÏÂÁÁÀÁÏýþûËúÏü\n",
      "o íü×üý·×éºìé¹í¹°éî¼±î¾¼±°¸¾±°°¿°¾ìíêºé¾ë\n",
      "p ÜëÆëì¦ÆØ©ÛØ¨Ü¨¯ØÝ« Ý­« ¯§­ ¯¯®¯­ÛÜÙ©Ø­Ú\n"
     ]
    }
   ],
   "source": [
    "ALPHABET = \"abcdefghijklmnop\"\n",
    "A2I = {ch:i for i,ch in enumerate(ALPHABET)}\n",
    "\n",
    "def unshift_char(c, k):\n",
    "    \"\"\"Revertir desplazamiento: devuelve caracter original en a..p.\"\"\"\n",
    "    return ALPHABET[(A2I[c] - A2I[k]) % 16]\n",
    "\n",
    "def b16_decode(s):\n",
    "    \"\"\"Decodifica una cadena de letras a..p (longitud par) a bytes.\"\"\"\n",
    "    out = bytearray()\n",
    "    for i in range(0, len(s), 2):\n",
    "        hi = A2I[s[i]]\n",
    "        lo = A2I[s[i+1]]\n",
    "        out.append((hi << 4) | lo)\n",
    "    return out\n",
    "\n",
    "def decrypt_with_key(ct, k):\n",
    "    \"\"\"Desplaza todo el ciphertext 'ct' con clave 'k' y decodifica bytes.\"\"\"\n",
    "    unshifted = \"\".join(unshift_char(c, k) for c in ct)\n",
    "    return b16_decode(unshifted).decode('latin1', errors='ignore')\n",
    "\n",
    "if __name__ == \"__main__\":\n",
    "    # ciphertext\n",
    "    CT = \"mlnklfnknljflfmhjimkmhjhmljhjomhmmjkjpmmjmjkjpjojgjmjpjojojnjojmmkmlmijimhjmmj\"\n",
    "\n",
    "    for k in ALPHABET:\n",
    "        pt = decrypt_with_key(CT, k)\n",
    "        if \"picoCTF{\" in pt:\n",
    "            print(\"Clave encontrada:\", k)\n",
    "            print(\"Flag:\", pt)\n",
    "            break\n",
    "        # Si desea ver todos los intentos:\n",
    "        print(k, pt[:60])"
   ]
  },
  {
   "cell_type": "markdown",
   "id": "9533db4e",
   "metadata": {},
   "source": [
    "##### Resultado esperado\n",
    "\n",
    "- Uno de los 16 intentos producirá una cadena legible que contiene `picoCTF{...}`.\n",
    "- Ese valor es la flag válida para enviar al grader.\n",
    "- En este caso la clave encontrada es la **g**.\n",
    "- Tenemos el flag: **et_tu?_a2da1e18af49f649806988786deb2a6c**"
   ]
  },
  {
   "cell_type": "markdown",
   "id": "0192e1ef",
   "metadata": {},
   "source": []
  }
 ],
 "metadata": {
  "kernelspec": {
   "display_name": "venv",
   "language": "python",
   "name": "python3"
  },
  "language_info": {
   "codemirror_mode": {
    "name": "ipython",
    "version": 3
   },
   "file_extension": ".py",
   "mimetype": "text/x-python",
   "name": "python",
   "nbconvert_exporter": "python",
   "pygments_lexer": "ipython3",
   "version": "3.13.5"
  }
 },
 "nbformat": 4,
 "nbformat_minor": 5
}
